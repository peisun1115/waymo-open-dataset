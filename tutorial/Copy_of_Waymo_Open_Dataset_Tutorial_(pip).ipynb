{
  "nbformat": 4,
  "nbformat_minor": 0,
  "metadata": {
    "colab": {
      "name": "Copy of Waymo Open Dataset Tutorial (pip).ipynb",
      "provenance": [],
      "collapsed_sections": [],
      "toc_visible": true
    },
    "kernelspec": {
      "name": "python3",
      "display_name": "Python 3"
    }
  },
  "cells": [
    {
      "cell_type": "markdown",
      "metadata": {
        "colab_type": "text",
        "id": "-pVhOfzLx9us"
      },
      "source": [
        "#Waymo Open Dataset Tutorial\n",
        "\n",
        "- Website: https://waymo.com/open\n",
        "- GitHub: https://github.com/waymo-research/waymo-open-dataset\n",
        "\n",
        "This tutorial demonstrates how to use the Waymo Open Dataset with two frames of data. Visit the [Waymo Open Dataset Website](https://waymo.com/open) to download the full dataset.\n",
        "\n",
        "To use, open this notebook in [Colab](https://colab.research.google.com).\n",
        "\n",
        "Uncheck the box \"Reset all runtimes before running\" if you run this colab directly from the remote kernel. Alternatively, you can make a copy before trying to run it by following \"File > Save copy in Drive ...\".\n",
        "\n"
      ]
    },
    {
      "cell_type": "markdown",
      "metadata": {
        "colab_type": "text",
        "id": "WWdJUWiZdMte"
      },
      "source": [
        "## Install waymo_open_dataset package"
      ]
    },
    {
      "cell_type": "code",
      "metadata": {
        "colab_type": "code",
        "id": "zxX_JIZrdKoR",
        "outputId": "efc3e7e3-09cd-4380-8cee-830b198ce38b",
        "colab": {
          "base_uri": "https://localhost:8080/",
          "height": 289
        }
      },
      "source": [
        "!rm -rf waymo-od > /dev/null\n",
        "!git clone https://github.com/waymo-research/waymo-open-dataset.git waymo-od\n",
        "!cd waymo-od && git branch -a\n",
        "!cd waymo-od && git checkout remotes/origin/r2.0\n",
        "!pip3 install --upgrade pip"
      ],
      "execution_count": 1,
      "outputs": [
        {
          "output_type": "stream",
          "text": [
            "Cloning into 'waymo-od'...\n",
            "remote: Enumerating objects: 4, done.\u001b[K\n",
            "remote: Counting objects:  25% (1/4)\u001b[K\rremote: Counting objects:  50% (2/4)\u001b[K\rremote: Counting objects:  75% (3/4)\u001b[K\rremote: Counting objects: 100% (4/4)\u001b[K\rremote: Counting objects: 100% (4/4), done.\u001b[K\n",
            "remote: Compressing objects: 100% (4/4), done.\u001b[K\n",
            "remote: Total 753 (delta 0), reused 0 (delta 0), pack-reused 749\u001b[K\n",
            "Receiving objects: 100% (753/753), 14.16 MiB | 42.04 MiB/s, done.\n",
            "Resolving deltas: 100% (480/480), done.\n",
            "* \u001b[32mmaster\u001b[m\n",
            "  \u001b[31mremotes/origin/HEAD\u001b[m -> origin/master\n",
            "  \u001b[31mremotes/origin/master\u001b[m\n",
            "  \u001b[31mremotes/origin/r1.0\u001b[m\n",
            "  \u001b[31mremotes/origin/r1.0-tf1.15\u001b[m\n",
            "  \u001b[31mremotes/origin/r1.0-tf2.0\u001b[m\n",
            "  \u001b[31mremotes/origin/r1.2\u001b[m\n",
            "error: pathspec 'remotes/origin/r2.0' did not match any file(s) known to git.\n",
            "Requirement already up-to-date: pip in /usr/local/lib/python3.6/dist-packages (20.0.2)\n"
          ],
          "name": "stdout"
        }
      ]
    },
    {
      "cell_type": "code",
      "metadata": {
        "id": "HjLsw986pSO3",
        "colab_type": "code",
        "outputId": "54fcd87a-e8e3-4e59-e54f-ada7fb74e52b",
        "colab": {
          "base_uri": "https://localhost:8080/",
          "height": 289
        }
      },
      "source": [
        "!rm /content/frame*\n",
        "!wget https://github.com/aabramovrepo/uploads/raw/master/waymo_dataset/frame.bin"
      ],
      "execution_count": 10,
      "outputs": [
        {
          "output_type": "stream",
          "text": [
            "--2020-03-26 20:33:31--  https://github.com/aabramovrepo/uploads/raw/master/waymo_dataset/frame.bin\n",
            "Resolving github.com (github.com)... 192.30.255.113\n",
            "Connecting to github.com (github.com)|192.30.255.113|:443... connected.\n",
            "HTTP request sent, awaiting response... 302 Found\n",
            "Location: https://raw.githubusercontent.com/aabramovrepo/uploads/master/waymo_dataset/frame.bin [following]\n",
            "--2020-03-26 20:33:31--  https://raw.githubusercontent.com/aabramovrepo/uploads/master/waymo_dataset/frame.bin\n",
            "Resolving raw.githubusercontent.com (raw.githubusercontent.com)... 151.101.0.133, 151.101.64.133, 151.101.128.133, ...\n",
            "Connecting to raw.githubusercontent.com (raw.githubusercontent.com)|151.101.0.133|:443... connected.\n",
            "HTTP request sent, awaiting response... 200 OK\n",
            "Length: 5114145 (4.9M) [application/octet-stream]\n",
            "Saving to: ‘frame.bin’\n",
            "\n",
            "\rframe.bin             0%[                    ]       0  --.-KB/s               \rframe.bin           100%[===================>]   4.88M  31.3MB/s    in 0.2s    \n",
            "\n",
            "2020-03-26 20:33:31 (31.3 MB/s) - ‘frame.bin’ saved [5114145/5114145]\n",
            "\n"
          ],
          "name": "stdout"
        }
      ]
    },
    {
      "cell_type": "code",
      "metadata": {
        "id": "PwU6e0X3pU6n",
        "colab_type": "code",
        "outputId": "bc657ce7-284b-463b-ff7e-18949498d0e7",
        "colab": {
          "base_uri": "https://localhost:8080/",
          "height": 85
        }
      },
      "source": [
        "!ls -lh /content"
      ],
      "execution_count": 11,
      "outputs": [
        {
          "output_type": "stream",
          "text": [
            "total 4.9M\n",
            "-rw-r--r-- 1 root root 4.9M Mar 26 20:33 frame.bin\n",
            "drwxr-xr-x 1 root root 4.0K Mar 18 16:23 sample_data\n",
            "drwxr-xr-x 9 root root 4.0K Mar 26 20:26 waymo-od\n"
          ],
          "name": "stdout"
        }
      ]
    },
    {
      "cell_type": "code",
      "metadata": {
        "colab_type": "code",
        "id": "hDQ1DPqwdfNW",
        "outputId": "bc07246d-1c00-45ed-df6d-d63711ec0e41",
        "colab": {
          "base_uri": "https://localhost:8080/",
          "height": 649
        }
      },
      "source": [
        "!pip3 install waymo-open-dataset-tf-2-1-0==1.2.0\n",
        "import os\n",
        "import tensorflow as tf\n",
        "import math\n",
        "import numpy as np\n",
        "import itertools\n",
        "\n",
        "tf.compat.v1.enable_eager_execution()\n",
        "\n",
        "from waymo_open_dataset.utils import range_image_utils\n",
        "from waymo_open_dataset.utils import transform_utils\n",
        "from waymo_open_dataset.utils import  frame_utils\n",
        "from waymo_open_dataset import dataset_pb2 as open_dataset"
      ],
      "execution_count": 12,
      "outputs": [
        {
          "output_type": "stream",
          "text": [
            "Requirement already satisfied: waymo-open-dataset-tf-2-1-0==1.2.0 in /usr/local/lib/python3.6/dist-packages (1.2.0)\n",
            "Requirement already satisfied: tensorflow-gpu==2.1.0 in /usr/local/lib/python3.6/dist-packages (from waymo-open-dataset-tf-2-1-0==1.2.0) (2.1.0)\n",
            "Requirement already satisfied: tensorboard<2.2.0,>=2.1.0 in /usr/local/lib/python3.6/dist-packages (from tensorflow-gpu==2.1.0->waymo-open-dataset-tf-2-1-0==1.2.0) (2.1.1)\n",
            "Requirement already satisfied: scipy==1.4.1; python_version >= \"3\" in /usr/local/lib/python3.6/dist-packages (from tensorflow-gpu==2.1.0->waymo-open-dataset-tf-2-1-0==1.2.0) (1.4.1)\n",
            "Requirement already satisfied: astor>=0.6.0 in /usr/local/lib/python3.6/dist-packages (from tensorflow-gpu==2.1.0->waymo-open-dataset-tf-2-1-0==1.2.0) (0.8.1)\n",
            "Requirement already satisfied: keras-applications>=1.0.8 in /usr/local/lib/python3.6/dist-packages (from tensorflow-gpu==2.1.0->waymo-open-dataset-tf-2-1-0==1.2.0) (1.0.8)\n",
            "Requirement already satisfied: wheel>=0.26; python_version >= \"3\" in /usr/local/lib/python3.6/dist-packages (from tensorflow-gpu==2.1.0->waymo-open-dataset-tf-2-1-0==1.2.0) (0.34.2)\n",
            "Requirement already satisfied: wrapt>=1.11.1 in /usr/local/lib/python3.6/dist-packages (from tensorflow-gpu==2.1.0->waymo-open-dataset-tf-2-1-0==1.2.0) (1.12.1)\n",
            "Requirement already satisfied: google-pasta>=0.1.6 in /usr/local/lib/python3.6/dist-packages (from tensorflow-gpu==2.1.0->waymo-open-dataset-tf-2-1-0==1.2.0) (0.2.0)\n",
            "Requirement already satisfied: numpy<2.0,>=1.16.0 in /usr/local/lib/python3.6/dist-packages (from tensorflow-gpu==2.1.0->waymo-open-dataset-tf-2-1-0==1.2.0) (1.18.2)\n",
            "Requirement already satisfied: termcolor>=1.1.0 in /usr/local/lib/python3.6/dist-packages (from tensorflow-gpu==2.1.0->waymo-open-dataset-tf-2-1-0==1.2.0) (1.1.0)\n",
            "Requirement already satisfied: six>=1.12.0 in /usr/local/lib/python3.6/dist-packages (from tensorflow-gpu==2.1.0->waymo-open-dataset-tf-2-1-0==1.2.0) (1.12.0)\n",
            "Requirement already satisfied: grpcio>=1.8.6 in /usr/local/lib/python3.6/dist-packages (from tensorflow-gpu==2.1.0->waymo-open-dataset-tf-2-1-0==1.2.0) (1.27.2)\n",
            "Requirement already satisfied: keras-preprocessing>=1.1.0 in /usr/local/lib/python3.6/dist-packages (from tensorflow-gpu==2.1.0->waymo-open-dataset-tf-2-1-0==1.2.0) (1.1.0)\n",
            "Requirement already satisfied: protobuf>=3.8.0 in /usr/local/lib/python3.6/dist-packages (from tensorflow-gpu==2.1.0->waymo-open-dataset-tf-2-1-0==1.2.0) (3.10.0)\n",
            "Requirement already satisfied: absl-py>=0.7.0 in /usr/local/lib/python3.6/dist-packages (from tensorflow-gpu==2.1.0->waymo-open-dataset-tf-2-1-0==1.2.0) (0.9.0)\n",
            "Requirement already satisfied: gast==0.2.2 in /usr/local/lib/python3.6/dist-packages (from tensorflow-gpu==2.1.0->waymo-open-dataset-tf-2-1-0==1.2.0) (0.2.2)\n",
            "Requirement already satisfied: opt-einsum>=2.3.2 in /usr/local/lib/python3.6/dist-packages (from tensorflow-gpu==2.1.0->waymo-open-dataset-tf-2-1-0==1.2.0) (3.2.0)\n",
            "Requirement already satisfied: tensorflow-estimator<2.2.0,>=2.1.0rc0 in /usr/local/lib/python3.6/dist-packages (from tensorflow-gpu==2.1.0->waymo-open-dataset-tf-2-1-0==1.2.0) (2.1.0)\n",
            "Requirement already satisfied: werkzeug>=0.11.15 in /usr/local/lib/python3.6/dist-packages (from tensorboard<2.2.0,>=2.1.0->tensorflow-gpu==2.1.0->waymo-open-dataset-tf-2-1-0==1.2.0) (1.0.0)\n",
            "Requirement already satisfied: google-auth-oauthlib<0.5,>=0.4.1 in /usr/local/lib/python3.6/dist-packages (from tensorboard<2.2.0,>=2.1.0->tensorflow-gpu==2.1.0->waymo-open-dataset-tf-2-1-0==1.2.0) (0.4.1)\n",
            "Requirement already satisfied: requests<3,>=2.21.0 in /usr/local/lib/python3.6/dist-packages (from tensorboard<2.2.0,>=2.1.0->tensorflow-gpu==2.1.0->waymo-open-dataset-tf-2-1-0==1.2.0) (2.21.0)\n",
            "Requirement already satisfied: markdown>=2.6.8 in /usr/local/lib/python3.6/dist-packages (from tensorboard<2.2.0,>=2.1.0->tensorflow-gpu==2.1.0->waymo-open-dataset-tf-2-1-0==1.2.0) (3.2.1)\n",
            "Requirement already satisfied: google-auth<2,>=1.6.3 in /usr/local/lib/python3.6/dist-packages (from tensorboard<2.2.0,>=2.1.0->tensorflow-gpu==2.1.0->waymo-open-dataset-tf-2-1-0==1.2.0) (1.7.2)\n",
            "Requirement already satisfied: setuptools>=41.0.0 in /usr/local/lib/python3.6/dist-packages (from tensorboard<2.2.0,>=2.1.0->tensorflow-gpu==2.1.0->waymo-open-dataset-tf-2-1-0==1.2.0) (46.0.0)\n",
            "Requirement already satisfied: h5py in /usr/local/lib/python3.6/dist-packages (from keras-applications>=1.0.8->tensorflow-gpu==2.1.0->waymo-open-dataset-tf-2-1-0==1.2.0) (2.10.0)\n",
            "Requirement already satisfied: requests-oauthlib>=0.7.0 in /usr/local/lib/python3.6/dist-packages (from google-auth-oauthlib<0.5,>=0.4.1->tensorboard<2.2.0,>=2.1.0->tensorflow-gpu==2.1.0->waymo-open-dataset-tf-2-1-0==1.2.0) (1.3.0)\n",
            "Requirement already satisfied: certifi>=2017.4.17 in /usr/local/lib/python3.6/dist-packages (from requests<3,>=2.21.0->tensorboard<2.2.0,>=2.1.0->tensorflow-gpu==2.1.0->waymo-open-dataset-tf-2-1-0==1.2.0) (2019.11.28)\n",
            "Requirement already satisfied: chardet<3.1.0,>=3.0.2 in /usr/local/lib/python3.6/dist-packages (from requests<3,>=2.21.0->tensorboard<2.2.0,>=2.1.0->tensorflow-gpu==2.1.0->waymo-open-dataset-tf-2-1-0==1.2.0) (3.0.4)\n",
            "Requirement already satisfied: urllib3<1.25,>=1.21.1 in /usr/local/lib/python3.6/dist-packages (from requests<3,>=2.21.0->tensorboard<2.2.0,>=2.1.0->tensorflow-gpu==2.1.0->waymo-open-dataset-tf-2-1-0==1.2.0) (1.24.3)\n",
            "Requirement already satisfied: idna<2.9,>=2.5 in /usr/local/lib/python3.6/dist-packages (from requests<3,>=2.21.0->tensorboard<2.2.0,>=2.1.0->tensorflow-gpu==2.1.0->waymo-open-dataset-tf-2-1-0==1.2.0) (2.8)\n",
            "Requirement already satisfied: pyasn1-modules>=0.2.1 in /usr/local/lib/python3.6/dist-packages (from google-auth<2,>=1.6.3->tensorboard<2.2.0,>=2.1.0->tensorflow-gpu==2.1.0->waymo-open-dataset-tf-2-1-0==1.2.0) (0.2.8)\n",
            "Requirement already satisfied: rsa<4.1,>=3.1.4 in /usr/local/lib/python3.6/dist-packages (from google-auth<2,>=1.6.3->tensorboard<2.2.0,>=2.1.0->tensorflow-gpu==2.1.0->waymo-open-dataset-tf-2-1-0==1.2.0) (4.0)\n",
            "Requirement already satisfied: cachetools<3.2,>=2.0.0 in /usr/local/lib/python3.6/dist-packages (from google-auth<2,>=1.6.3->tensorboard<2.2.0,>=2.1.0->tensorflow-gpu==2.1.0->waymo-open-dataset-tf-2-1-0==1.2.0) (3.1.1)\n",
            "Requirement already satisfied: oauthlib>=3.0.0 in /usr/local/lib/python3.6/dist-packages (from requests-oauthlib>=0.7.0->google-auth-oauthlib<0.5,>=0.4.1->tensorboard<2.2.0,>=2.1.0->tensorflow-gpu==2.1.0->waymo-open-dataset-tf-2-1-0==1.2.0) (3.1.0)\n",
            "Requirement already satisfied: pyasn1<0.5.0,>=0.4.6 in /usr/local/lib/python3.6/dist-packages (from pyasn1-modules>=0.2.1->google-auth<2,>=1.6.3->tensorboard<2.2.0,>=2.1.0->tensorflow-gpu==2.1.0->waymo-open-dataset-tf-2-1-0==1.2.0) (0.4.8)\n"
          ],
          "name": "stdout"
        }
      ]
    },
    {
      "cell_type": "markdown",
      "metadata": {
        "colab_type": "text",
        "id": "ibor0U9XBlX6"
      },
      "source": [
        "## Read one frame\n",
        "\n",
        "Each file in the dataset is a sequence of frames ordered by frame start timestamps. We have extracted two frames from the dataset to demonstrate the dataset format."
      ]
    },
    {
      "cell_type": "code",
      "metadata": {
        "colab_type": "code",
        "id": "29uZtYLJBx2r",
        "colab": {}
      },
      "source": [
        "with tf.io.gfile.GFile('/content/frame.bin', 'rb') as f:\n",
        "  github_frame = f.read()\n",
        "  github_frame_decoded = open_dataset.Frame()\n",
        "  github_frame_decoded.ParseFromString(bytearray(github_frame))\n",
        "  frame = github_frame_decoded\n"
      ],
      "execution_count": 0,
      "outputs": []
    },
    {
      "cell_type": "code",
      "metadata": {
        "colab_type": "code",
        "id": "wHK95_JBUXUx",
        "colab": {}
      },
      "source": [
        "(range_images, camera_projections,\n",
        " range_image_top_pose) = frame_utils.parse_range_image_and_camera_projection(\n",
        "    frame)"
      ],
      "execution_count": 0,
      "outputs": []
    },
    {
      "cell_type": "markdown",
      "metadata": {
        "colab_type": "text",
        "id": "17Lwd2nVpex7"
      },
      "source": [
        "##Point Cloud Conversion"
      ]
    },
    {
      "cell_type": "code",
      "metadata": {
        "colab_type": "code",
        "id": "XIEDW1pfpmd-",
        "colab": {}
      },
      "source": [
        "points, cp_points = frame_utils.convert_range_image_to_point_cloud(\n",
        "    frame,\n",
        "    range_images,\n",
        "    camera_projections,\n",
        "    range_image_top_pose)\n",
        "points_ri2, cp_points_ri2 = frame_utils.convert_range_image_to_point_cloud(\n",
        "    frame,\n",
        "    range_images,\n",
        "    camera_projections,\n",
        "    range_image_top_pose,\n",
        "    ri_index=1)\n",
        "\n",
        "# 3d points in vehicle frame.\n",
        "points_all = np.concatenate(points, axis=0)\n",
        "points_all_ri2 = np.concatenate(points_ri2, axis=0)\n",
        "# camera projection corresponding to each point.\n",
        "cp_points_all = np.concatenate(cp_points, axis=0)\n",
        "cp_points_all_ri2 = np.concatenate(cp_points_ri2, axis=0)\n",
        "\n",
        "points_r1_2 = np.concatenate([points_all, points_all_ri2], axis=0)"
      ],
      "execution_count": 0,
      "outputs": []
    },
    {
      "cell_type": "markdown",
      "metadata": {
        "colab_type": "text",
        "id": "5MAKwTRWz3af"
      },
      "source": [
        "###Compare"
      ]
    },
    {
      "cell_type": "markdown",
      "metadata": {
        "colab_type": "text",
        "id": "E5_e4BCAGfYX"
      },
      "source": [
        "L2 norm"
      ]
    },
    {
      "cell_type": "code",
      "metadata": {
        "id": "hTt_-apJp0aO",
        "colab_type": "code",
        "outputId": "9f12ed43-79c0-4862-a7aa-f4e77dd088bb",
        "colab": {
          "base_uri": "https://localhost:8080/",
          "height": 34
        }
      },
      "source": [
        "np.linalg.norm(points_all)"
      ],
      "execution_count": 31,
      "outputs": [
        {
          "output_type": "execute_result",
          "data": {
            "text/plain": [
              "8515.677"
            ]
          },
          "metadata": {
            "tags": []
          },
          "execution_count": 31
        }
      ]
    },
    {
      "cell_type": "markdown",
      "metadata": {
        "id": "OKQLkCcUjTz6",
        "colab_type": "text"
      },
      "source": [
        "Output from github"
      ]
    },
    {
      "cell_type": "code",
      "metadata": {
        "id": "CbWIbd3AjdIZ",
        "colab_type": "code",
        "outputId": "accaaccb-be67-4b15-befb-63bf8876369e",
        "colab": {
          "base_uri": "https://localhost:8080/",
          "height": 306
        }
      },
      "source": [
        "!wget https://github.com/aabramovrepo/uploads/raw/master/waymo_dataset/points_all.npy\n",
        "!rm -rf github || true\n",
        "!mkdir github && cp /content/points_all.npy /content/github/points_all.npy && cd github  \n",
        "!ls /content/github"
      ],
      "execution_count": 24,
      "outputs": [
        {
          "output_type": "stream",
          "text": [
            "--2020-03-26 20:37:30--  https://github.com/aabramovrepo/uploads/raw/master/waymo_dataset/points_all.npy\n",
            "Resolving github.com (github.com)... 192.30.255.112\n",
            "Connecting to github.com (github.com)|192.30.255.112|:443... connected.\n",
            "HTTP request sent, awaiting response... 302 Found\n",
            "Location: https://raw.githubusercontent.com/aabramovrepo/uploads/master/waymo_dataset/points_all.npy [following]\n",
            "--2020-03-26 20:37:31--  https://raw.githubusercontent.com/aabramovrepo/uploads/master/waymo_dataset/points_all.npy\n",
            "Resolving raw.githubusercontent.com (raw.githubusercontent.com)... 151.101.0.133, 151.101.64.133, 151.101.128.133, ...\n",
            "Connecting to raw.githubusercontent.com (raw.githubusercontent.com)|151.101.0.133|:443... connected.\n",
            "HTTP request sent, awaiting response... 200 OK\n",
            "Length: 2013752 (1.9M) [application/octet-stream]\n",
            "Saving to: ‘points_all.npy.1’\n",
            "\n",
            "points_all.npy.1    100%[===================>]   1.92M  --.-KB/s    in 0.1s    \n",
            "\n",
            "2020-03-26 20:37:31 (14.8 MB/s) - ‘points_all.npy.1’ saved [2013752/2013752]\n",
            "\n",
            "points_all.npy\n"
          ],
          "name": "stdout"
        }
      ]
    },
    {
      "cell_type": "code",
      "metadata": {
        "id": "wFNsgAJ2kitk",
        "colab_type": "code",
        "outputId": "e3a56d19-14c9-40a6-f598-abae4f264412",
        "colab": {
          "base_uri": "https://localhost:8080/",
          "height": 34
        }
      },
      "source": [
        "pc = np.load('/content/github/points_all.npy')\n",
        "np.linalg.norm(pc)"
      ],
      "execution_count": 32,
      "outputs": [
        {
          "output_type": "execute_result",
          "data": {
            "text/plain": [
              "8515.677"
            ]
          },
          "metadata": {
            "tags": []
          },
          "execution_count": 32
        }
      ]
    }
  ]
}